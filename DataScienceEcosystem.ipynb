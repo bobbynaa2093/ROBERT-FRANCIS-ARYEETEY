{
 "cells": [
  {
   "cell_type": "markdown",
   "id": "e461f716",
   "metadata": {},
   "source": [
    "Data Science Tools and Ecosystem"
   ]
  },
  {
   "cell_type": "markdown",
   "id": "aed13b95",
   "metadata": {},
   "source": [
    "In this notebook, Data Science Tools and Ecosystem are summarized."
   ]
  },
  {
   "cell_type": "markdown",
   "id": "d5e7cd08",
   "metadata": {},
   "source": [
    "Some of the popular languages that Data Scientists use are:\n",
    "\n",
    "1. Python\n",
    "2. R\n",
    "3. SQL"
   ]
  },
  {
   "cell_type": "markdown",
   "id": "d8f6ae37",
   "metadata": {},
   "source": [
    "Some of the commonly used libraries used by Data Scientists include:\n",
    "\n",
    "1. NumPy\n",
    "2. Pandas\n",
    "3. Matplotlib"
   ]
  },
  {
   "cell_type": "markdown",
   "id": "ce162075",
   "metadata": {},
   "source": [
    "|Data Science Tools  |\n",
    "|:----------------:  |\n",
    "| Jupyter Notebook   |\n",
    "| Rstudio            |\n",
    "| Visual studio code |"
   ]
  },
  {
   "cell_type": "markdown",
   "id": "a586782c",
   "metadata": {},
   "source": [
    "### Below are a few examples of evaluating arithmetic expressions in Python.\n",
    "\n",
    "You can use Python to perform various arithmetic operations, such as addition, subtraction, multiplication, and division. Here are some examples:\n",
    "\n",
    "- Addition: `3 + 5`\n",
    "- Subtraction: `10 - 7`\n",
    "- Multiplication: `4 * 6`\n",
    "- Division: `15 / 3`"
   ]
  },
  {
   "cell_type": "code",
   "execution_count": 7,
   "id": "d7e095b6",
   "metadata": {},
   "outputs": [
    {
     "data": {
      "text/plain": [
       "17"
      ]
     },
     "execution_count": 7,
     "metadata": {},
     "output_type": "execute_result"
    }
   ],
   "source": [
    "# This is a simple arithmetic expression to multiply then add integers\n",
    "(3*4)+5"
   ]
  },
  {
   "cell_type": "code",
   "execution_count": 8,
   "id": "6039fd7e",
   "metadata": {},
   "outputs": [
    {
     "data": {
      "text/plain": [
       "3.3333333333333335"
      ]
     },
     "execution_count": 8,
     "metadata": {},
     "output_type": "execute_result"
    }
   ],
   "source": [
    "# This will convert 200 minutes to hours by dividing by 60\n",
    "minutes = 200\n",
    "hours = minutes / 60\n",
    "hours"
   ]
  },
  {
   "cell_type": "markdown",
   "id": "1ef087dd",
   "metadata": {},
   "source": [
    "**Objectives:**\n",
    "\n",
    "- List popular languages for Data Science.\n",
    "- Introduce commonly used libraries in Data Science.\n",
    "- Create a table of Data Science tools.\n",
    "- Demonstrate arithmetic expression examples.\n",
    "- Convert minutes to hours using Python."
   ]
  },
  {
   "cell_type": "markdown",
   "id": "b0e40fd7",
   "metadata": {},
   "source": [
    "## Author\n",
    "\n",
    "ROBERT FRANCIS ARYEETEY"
   ]
  },
  {
   "cell_type": "code",
   "execution_count": null,
   "id": "da536521",
   "metadata": {},
   "outputs": [],
   "source": []
  }
 ],
 "metadata": {
  "kernelspec": {
   "display_name": "Python 3 (ipykernel)",
   "language": "python",
   "name": "python3"
  },
  "language_info": {
   "codemirror_mode": {
    "name": "ipython",
    "version": 3
   },
   "file_extension": ".py",
   "mimetype": "text/x-python",
   "name": "python",
   "nbconvert_exporter": "python",
   "pygments_lexer": "ipython3",
   "version": "3.11.5"
  }
 },
 "nbformat": 4,
 "nbformat_minor": 5
}
